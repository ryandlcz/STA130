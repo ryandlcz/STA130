{
 "cells": [
  {
   "cell_type": "markdown",
   "id": "d1b134ff",
   "metadata": {},
   "source": [
    "# STA 130 Homework 2"
   ]
  },
  {
   "cell_type": "markdown",
   "id": "bef888f4",
   "metadata": {},
   "source": [
    "### 1. Revisiting  3(a) of TUT Demo"
   ]
  },
  {
   "cell_type": "markdown",
   "id": "412d639c",
   "metadata": {},
   "source": [
    "- ChatGPT explains the premise of the Monty Hall problem."
   ]
  },
  {
   "cell_type": "markdown",
   "id": "42fb975b",
   "metadata": {},
   "source": [
    "### 2. Extending session for simple Monte Hall code"
   ]
  },
  {
   "cell_type": "markdown",
   "id": "e1e7b174",
   "metadata": {},
   "source": [
    "- I prefer ChatGPT's program which I find easier on the eyes due to comments spanning only 1 line. Explanations provided from ChatGPT was thus more succinct, although this is purely subjective as I understood both explanations perfectly fine."
   ]
  },
  {
   "cell_type": "markdown",
   "id": "4e0c7f6a",
   "metadata": {},
   "source": [
    "### 3. Preferred version of problem from ChatGPT"
   ]
  },
  {
   "cell_type": "code",
   "execution_count": 6,
   "id": "60a4a4c8",
   "metadata": {},
   "outputs": [
    {
     "name": "stdout",
     "output_type": "stream",
     "text": [
      "Switching wins: 66.405%\n",
      "Sticking wins: 33.595000000000006%\n"
     ]
    }
   ],
   "source": [
    "# code provided from ChatGPT simulating the Monty Hall problem\n",
    "\n",
    "import numpy as np\n",
    "\n",
    "# Number of simulations\n",
    "num_simulations = 100000\n",
    "\n",
    "# Variables to track wins if switching vs if sticking\n",
    "switch_wins = 0\n",
    "stick_wins = 0\n",
    "\n",
    "# Loop through the number of simulations using numpy for random choices\n",
    "for _ in range(num_simulations):\n",
    "    \n",
    "    # Randomly place the car behind one of the three doors (0, 1, or 2)\n",
    "    car_position = np.random.randint(0, 3)\n",
    "    \n",
    "    # Contestant randomly picks one of the doors (0, 1, or 2)\n",
    "    initial_choice = np.random.randint(0, 3)\n",
    "    \n",
    "    # Monty reveals a door that the contestant didn't pick and that doesn't have the car\n",
    "    possible_reveals = [door for door in range(3) if door != initial_choice and door != car_position]\n",
    "    \n",
    "    # Monty opens one of those doors (randomly if there's more than one option)\n",
    "    monty_reveal = np.random.choice(possible_reveals)\n",
    "    \n",
    "    # The remaining unopened door (the door that neither the contestant picked nor Monty revealed)\n",
    "    remaining_door = [door for door in range(3) if door != initial_choice and door != monty_reveal][0]\n",
    "    \n",
    "    # Check if switching would win\n",
    "    if remaining_door == car_position:\n",
    "        switch_wins += 1\n",
    "    else:\n",
    "        stick_wins += 1\n",
    "\n",
    "# Output the results\n",
    "switch_win_percentage = (switch_wins / num_simulations) * 100\n",
    "stick_win_percentage = (stick_wins / num_simulations) * 100\n",
    "\n",
    "print(f\"Switching wins: {switch_win_percentage}%\")\n",
    "print(f\"Sticking wins: {stick_win_percentage}%\")\n"
   ]
  },
  {
   "cell_type": "markdown",
   "id": "6c882c21",
   "metadata": {},
   "source": [
    "#### Summary before Markov conversation\n",
    "\n",
    "https://chatgpt.com/share/66e605ae-5c48-800f-a35f-ebf1c3020715\n",
    "\n",
    "In our conversation, we discussed the Monty Hall problem, a probability puzzle where a contestant must choose one of three doors, with a car behind one door and goats behind the others. After selecting a door, the host, Monty Hall, reveals a goat behind one of the two remaining doors and offers the contestant a choice to switch to the other unopened door. The correct strategy is to switch doors, as this increases the probability of winning from 1/3 to 2/3.\n",
    "\n",
    "We then explored how to simulate the Monty Hall problem using Python. I provided code that uses a for loop to simulate the scenario 10,000 times, showing that switching gives a much higher chance of winning. Finally, we adapted the code to run 100,000 simulations using NumPy, a popular library for numerical computations."
   ]
  },
  {
   "cell_type": "markdown",
   "id": "80d8fc6a",
   "metadata": {},
   "source": [
    "### 4. Markov Chains and ChatBots"
   ]
  },
  {
   "cell_type": "code",
   "execution_count": null,
   "id": "27fa43e1",
   "metadata": {},
   "outputs": [],
   "source": [
    "# Markov Chains and Text Generation\n",
    "from IPython.display import YouTubeVideo\n",
    "YouTubeVideo('56mGTszb_iM', width = 550)"
   ]
  },
  {
   "cell_type": "markdown",
   "id": "ee4e52f3",
   "metadata": {},
   "source": [
    "##### My own notes on the video\n",
    "- model of probability of certain words following other words in the context of text\n",
    "    - useful for predictive text\n",
    "    - pairs of words (and of longer length) generate stronger accuracy\n",
    "        - 'the same' instead of just 'the'\n"
   ]
  },
  {
   "cell_type": "markdown",
   "id": "9d121d6f",
   "metadata": {},
   "source": [
    "I promopted ChatGPT to re-write the given code with comments embedded to gain a better understanding of how the code works.\n",
    "\n",
    "- word_used: keeps track of how many times each word in words appears\n",
    "- next_word: dictionary tracks what word follows a given word\n",
    "    - each word in list has associated dictionary storing words  that appear immediately after it, along w/ frequency.\n",
    "        - ex. if 'hello' is followed by 'world' twice and 'there' once\n",
    "            - next_word['hello'] = {'world': 2, 'there': 1}\n",
    "            \n",
    "            <br>\n",
    "           \n",
    "- for loop: goes over every word in list except last (words[:-1])\n",
    "    - since we are always looking at current word & next (word[i+1])\n",
    "    - for each word, we check for existence in word_used dictionary\n",
    "        - if yes: i+1\n",
    "        - if no: add to dictionary w/ count of 1\n",
    "    - for each word, we check the next word in the sequence\n",
    "        - updating next_word dictionary to reflect frequency"
   ]
  },
  {
   "cell_type": "code",
   "execution_count": 14,
   "id": "bbd15233",
   "metadata": {},
   "outputs": [],
   "source": [
    "words = \"https://raw.githubusercontent.com/rfordatascience/tidytuesday/master/data/2020/2020-08-11/avatar.csv\"\n",
    "\n",
    "# Initialize an empty dictionary to keep track of how many times each word is used\n",
    "# This could also be a defaultdict(int) to avoid checking if a word is already in the dictionary\n",
    "word_used = dict() \n",
    "\n",
    "# Initialize an empty dictionary to keep track of what word follows each word\n",
    "# next_word[word] will itself be a dictionary, where the keys are the words that follow 'word',\n",
    "# and the values are the number of times each of those words follows 'word'.\n",
    "# Using defaultdict here could simplify some logic.\n",
    "next_word = dict() \n",
    "\n",
    "# Loop through all words in the list except for the last one\n",
    "# The variable 'words' should be a list of words from some input text\n",
    "for i, word in enumerate(words[:-1]):\n",
    "    \n",
    "    # Check if the current word is already in the word_used dictionary\n",
    "    if word in word_used:\n",
    "        # If it is, increment its count\n",
    "        word_used[word] += 1\n",
    "    else:\n",
    "        # If it's not, add it to the dictionary with a count of 1\n",
    "        word_used[word] = 1\n",
    "        # Also initialize the next_word dictionary for this word to keep track of what follows\n",
    "        next_word[word] = {}\n",
    "\n",
    "    # Now look at the word that comes next in the sequence (words[i+1])\n",
    "    # Check if the next word already follows the current word in the next_word dictionary\n",
    "    if words[i+1] in next_word[word]:\n",
    "        # If it does, increment the count of how many times this word follows\n",
    "        next_word[word][words[i+1]] += 1\n",
    "    else:\n",
    "        # If not, add the next word with an initial count of 1\n",
    "        next_word[word][words[i+1]] = 1\n"
   ]
  },
  {
   "cell_type": "markdown",
   "id": "75c5fbed",
   "metadata": {},
   "source": [
    "#### Summary of a Markovian ChatBot Using Python\n",
    "\n",
    "https://chatgpt.com/share/66e61472-1464-800f-bba4-a3dc83ff3328\n",
    "\n",
    "In this session, we discussed the development of a \"Markovian ChatBot\" using Python. The chatbot is designed to generate sentences by modeling word transitions based on a given text. The core of the implementation revolves around two dictionaries:\n",
    "\n",
    "word_used: Tracks how many times each word appears in the input text.\n",
    "next_word: Tracks which words follow each word, along with the frequency of these transitions.\n",
    "I provided detailed comments explaining each part of the original code, which iterates through a list of words to populate these dictionaries. I also suggested using Python’s defaultdict from the collections module to make the code more efficient by removing the need for explicit checks for whether a word exists in the dictionary.\n",
    "\n",
    "Additionally, I offered guidance on how the chatbot could eventually generate text by probabilistically selecting the next word based on the next_word dictionary. This foundational structure is based on a Markov chain model, where the likelihood of a word being chosen depends on how frequently it follows the previous word in the text."
   ]
  },
  {
   "cell_type": "markdown",
   "id": "9733ceda",
   "metadata": {},
   "source": [
    "### 5. Extension of Markovian ChatBot Code"
   ]
  },
  {
   "cell_type": "code",
   "execution_count": null,
   "id": "36b31c0c",
   "metadata": {},
   "outputs": [],
   "source": [
    "#importing defaultdict as it was not included in the ex\n",
    "from collections import defaultdict"
   ]
  },
  {
   "cell_type": "code",
   "execution_count": 22,
   "id": "05d3c89e",
   "metadata": {},
   "outputs": [],
   "source": [
    "# Markovian Chatbot Extension #1\n",
    "\n",
    "word_used2 = defaultdict(int)\n",
    "next_word2 = defaultdict(lambda: defaultdict(int))\n",
    "for i,word in enumerate(words[:-2]):\n",
    "    word_used2[word+' '+words[i+1]] += 1\n",
    "    next_word2[word+' '+words[i+1]][words[i+2]] += 1 "
   ]
  },
  {
   "cell_type": "markdown",
   "id": "54a69d07",
   "metadata": {},
   "source": [
    "ChatGPT recognized that this extension adds a higher-order Markov chain to the chatbot, considering **paris of consecutive words** rather than just single words like in our original code.\n",
    "\n",
    "- word_used2[word + ' ' + words[i+1]:\n",
    "    - tracks **how many times each pair of consecutive words appear** in the text\n",
    "\n",
    "- next_word2[word + ' ' + words[i+2][words[i+2]]\n",
    "    - tracks **what word follows each pair of consecutive words and how often**\n",
    "\n",
    "This allows more contextually accurate sentences to be generated as they are now based on two words instead of one. Naturally, longer clusters of words stored in many different partitions would build a more accurate dictionary to generate sentences from."
   ]
  },
  {
   "cell_type": "code",
   "execution_count": null,
   "id": "5f85465c",
   "metadata": {
    "scrolled": true
   },
   "outputs": [],
   "source": [
    "# Markovian Chatbot Extension #2\n",
    "\n",
    "from collections import Counter, defaultdict\n",
    "# `avatar` is a dataset, and `character` is one of it's columns\n",
    "characters = Counter(\"\\n\"+ avatar.character.str.upper().str.replace(' ','.')+\":\")\n",
    "# this code changes the type of the `character` column to `str`; then,\n",
    "# makes the text uppercase, and replaces spaces with '.'\n",
    "\n",
    "nested_dict = lambda: defaultdict(nested_dict)\n",
    "word_used2C = nested_dict()\n",
    "next_word2C = nested_dict()\n",
    "\n",
    "for i,word in enumerate(words[:-2]):\n",
    "    if word in characters:\n",
    "        character = word\n",
    "        \n",
    "    if character not in word_used2C:\n",
    "        word_used2C[character] = dict()\n",
    "    if word+' '+words[i+1] not in word_used2C[character]:\n",
    "        word_used2C[character][word+' '+words[i+1]] = 0\n",
    "    word_used2C[character][word+' '+words[i+1]] += 1\n",
    "    \n",
    "    if character not in next_word2C:\n",
    "        next_word2C[character] = dict()\n",
    "    if word+' '+words[i+1] not in next_word2C[character]:\n",
    "        next_word2C[character][word+' '+words[i+1]] = dict()\n",
    "    if words[i+2] not in next_word2C[character][word+' '+words[i+1]]:\n",
    "        next_word2C[character][word+' '+words[i+1]][words[i+2]] = 0\n",
    "    next_word2C[character][word+' '+words[i+1]][words[i+2]] += 1"
   ]
  },
  {
   "cell_type": "markdown",
   "id": "d284fd11",
   "metadata": {
    "slideshow": {
     "slide_type": "subslide"
    }
   },
   "source": [
    "ChatGPT outlines a few key enhancements:\n",
    "- characters variable extracts & processes character column by\n",
    "\n",
    "    - converting it to upperspace\n",
    "    - replacing spaces w/ periods (.), possibly to handle multi-word character names\n",
    "    - counting occurances using *counter*, adding a new line \\n at start and : at end\n",
    "    \n",
    "- **nested dictionaries**\n",
    "    - nested_dict_lambda:defaultdict(nested_dict) creates a recursively nested dictionary, allowing for building **dictionaries within dictionaries w/o initializing the structure manually**\n",
    "    - word_used2C (nested dictionary)\n",
    "        - stores how often **bi-grams** (two word sequences) are used by each character\n",
    "    - next_word2C (nested dictionary)\n",
    "        - stores possible third word that can follow each bi-gram for a given character, along with frequency of these **tri-grams**\n",
    "        \n",
    "- **character specific** word sequences:\n",
    "    - loop iterates over list of words (stopping at 3rd to last word) to avoid out-of-bounds access)\n",
    "    - if current word is present in the characters column, it updates the character variable. allowing the model to track which character speaks a given sequence.\n",
    "    - thus, chatbot now associates our sequences (bi-grams/tri-grams) with specific characters in the data set and can **generate responsses or new prompts based on the speaking patterns of each character.**\n",
    "\n",
    "- word grouping\n",
    "    - word + ' ' + words[i+1] creates bi-grams by joining the current & next word in the seq\n",
    "    - for each bi-gram, the next word (words[i+2]) is tracked along with it's frequency, which creates a tri-gram\n",
    "    \n",
    "These new features implemented in Extension #2 of our code allows tri-gram data to be generated which mimics the style of specific characters in the data set by analyzing their bi-grams and the frequency of words which follow."
   ]
  },
  {
   "cell_type": "markdown",
   "id": "d61ed2a7",
   "metadata": {},
   "source": [
    "### 6. Experience with ChatBots in relation to the Monte Hall and Markovian Code"
   ]
  },
  {
   "cell_type": "markdown",
   "id": "57ac375e",
   "metadata": {},
   "source": [
    "1. ChatBot was extremely quick and helpful for each of the above questions. As I mentioned in the previous homework assignment, the alternative of consulting Google would require filtering through a myriad of forum posts which vary in quality. The ChatBot understands context almost instantly following very little input from myself. \n",
    "\n",
    "\n",
    "\n",
    "2. Interacting with ChatBots was only frustrating during the latter half of the questions, but only due to my unfamilliarity with the material we were discussing (Markov Chains and slightly more complicated Python code).\n",
    "\n",
    "\n",
    "\n",
    "3. ChatBots as a tool to help understand code has been excellent. As stated above, the alternative of googling and relying on forum posts of various quality pales in comparison to being able to provide exact input to the ChatBot and recieve instant feedback."
   ]
  },
  {
   "cell_type": "markdown",
   "id": "03abd118",
   "metadata": {},
   "source": [
    "### 7. Experience with ChatBot and perception of AI-driven tools"
   ]
  },
  {
   "cell_type": "markdown",
   "id": "d0b95ac7",
   "metadata": {},
   "source": [
    "I have been a big proponent of utilizing AI for learning not just coding and statistics, but other fields as well. In that sense, my perception of using AI-driven assistance tools for learning has not changed. I see no sense in being a luddite in a world driven by technology.\n",
    "\n",
    "When I prompted the ChatBot about it's abilities, it saw itself as a highly versatile AI-driven tool designed to assist in a wide range of tasks, which I agree with. It also listed it's limitations of relying on context provided by the user and lack of advanced specialization.\n",
    "\n",
    "I found no issue with it's limitations as I am comfortable in feeding the AI the proper prompts to recieve the information I seek. In the context of this class, the lack of advanced specialization is no issue either, considering the subject matter is only a first year undergraduate course."
   ]
  },
  {
   "cell_type": "markdown",
   "id": "1f635076",
   "metadata": {},
   "source": [
    "#### Summary of code extension and perception of AI\n",
    "\n",
    "https://chatgpt.com/share/66e61472-1464-800f-bba4-a3dc83ff3328\n",
    "\n",
    "We extended the Markovian ChatBot code to create a higher-order Markov chain that considers pairs of consecutive words instead of single words when predicting the next word. This extension uses two consecutive words as context to make predictions, thereby allowing the chatbot to generate more contextually coherent sentences.\n",
    "\n",
    "In the original version of the code, the chatbot predicted the next word based on just the current word. In this extended version, it predicts the next word based on a pair of words. This enhancement provides more context, leading to better predictions and smoother text generation. For example, instead of predicting the next word for \"The,\" it now predicts the next word for \"The cat.\"\n",
    "\n",
    "\n",
    "https://chatgpt.com/share/66e8d3cd-721c-800f-9377-8a1873822b50\n",
    "\n",
    "In this conversation, we discussed several aspects of a Markovian ChatBot, starting with the user’s code that implements a basic Markov chain model for generating text. The initial code used dictionaries to track word frequencies and transitions between words (bi-grams), building a simple model for text generation.\n",
    "\n",
    "I provided feedback on how the original code could be streamlined using Python's defaultdict to simplify checks for existing words, and I suggested a way to extend the model to generate sentences using word probabilities based on bi-grams.\n",
    "\n",
    "The user then introduced an extension to the chatbot code, which incorporates character-specific data using a dataset (avatar.character). The extension focuses on tracking word sequences not just by bi-grams but also tri-grams, with each character in the dataset having its own word sequence model. This allows the chatbot to generate character-specific responses, enhancing its ability to reflect the distinct speaking patterns of each character in the dataset.\n",
    "\n",
    "Finally, I explained my capabilities as an AI assistant, particularly in the fields of statistics, programming, and statistical analysis. I highlighted how I can assist in various tasks such as generating code, helping with statistical models, and guiding users through programming challenges, while also acknowledging some limitations, especially in highly specialized areas or real-time data access.\n",
    "\n"
   ]
  },
  {
   "cell_type": "markdown",
   "id": "7fde31c7",
   "metadata": {},
   "source": [
    "### 8. Search Consensensus"
   ]
  },
  {
   "cell_type": "markdown",
   "id": "0ba2747f",
   "metadata": {},
   "source": [
    "The ChatBot described the relevance of each topic in question 1 in regards to career opportunities. Being able to adapt quickly to advancements in technology and evolving industry is cruical and sets one up for long-term success. AI, deep learning, and big data analytics were highlighted by the ChatBot for job secuirty in data science. Communication was important in the ability to articulate the importance of data and other such technical concepts to those not so tech savvy. \n",
    "\n",
    "Although the ChatBot states that the barriers of entry for statistics and data science are decreasing with the aid of AI, it would still be quite the hurdle to be a statistician or data science without some level of knowledge in those respective fields. In particular, the analytical knowledge to interpret resuts correctly and choose the right models for a given problem are crucial in order to perform accurately. \n",
    "\n",
    "When prompted about career exploration, I fed the chatbot various skills I had, along with a weakness. In return, it mentioned that I should strengthen my math skills in areas like algebra, statistics, and probability. All of which are courses I will be taking during my first year of undergrad.\n",
    "\n",
    "I thought that the ChatBot was very helpful during out discussion. Of course, as stated in the first homework assignment, the next best alternative would be using Google to search for forum posts of various quality, or even posting myself for more specific answers. This would require a great deal of time, as people's time and attention to forums have been dwindling with the advent of social media. \n",
    "\n",
    "If I wanted to pursue the conversation further, I would hone in on a specific field I had serious interest in. For example, UX/UI design & development was mentioned as a potentional creer option for me. To deepen the conversation, I would ask how to use tools such as Figma, and for a brief JavaScript tutorial given my current knowledge of programming. Of course, for more in-depth knowledge, I would consult another sources for specific content such as a YouTube tutorial video.\n",
    "\n",
    "### Question 8 summary\n",
    "\n",
    "https://chatgpt.com/share/66e99f17-3ba8-800f-8a16-5ed264e6f82b\n",
    "\n",
    "Given my proficiency in Linux, command line, basic Python, web development, and creative skills in design, photography, videography, and music production, there are several career paths available that align with both technical and creative disciplines. Some of the career options discussed include roles in full-stack web development, DevOps and systems engineering, UX/UI design, creative coding, and multimedia content creation.\n",
    "\n",
    "To strengthen my career prospects, I can focus on expanding my Python and web development skills, learning advanced tools for multimedia production, and building projects that integrate both technical and artistic expertise. Additionally, enhancing my math skills in areas like linear algebra, statistics, and probability could open opportunities in data-driven fields like AI and machine learning. Developing a strong portfolio showcasing my diverse skills will also be crucial in standing out in these industries."
   ]
  },
  {
   "cell_type": "markdown",
   "id": "3993afe1",
   "metadata": {},
   "source": [
    "### 9. Revewing wiki and interacting with ChatBot for clarification\n",
    "\n",
    "Somewhat, but I will make sure to review the wiki further so that I can distinguish between all relevant functions introduced during lecture and the current course project capability level portion of the homework assignment."
   ]
  }
 ],
 "metadata": {
  "kernelspec": {
   "display_name": "Python 3 (ipykernel)",
   "language": "python",
   "name": "python3"
  },
  "language_info": {
   "codemirror_mode": {
    "name": "ipython",
    "version": 3
   },
   "file_extension": ".py",
   "mimetype": "text/x-python",
   "name": "python",
   "nbconvert_exporter": "python",
   "pygments_lexer": "ipython3",
   "version": "3.11.6"
  }
 },
 "nbformat": 4,
 "nbformat_minor": 5
}
