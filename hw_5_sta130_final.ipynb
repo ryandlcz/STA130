{
 "cells": [
  {
   "cell_type": "markdown",
   "id": "ad23d259",
   "metadata": {},
   "source": [
    "# STA130 Week 5 Homework"
   ]
  },
  {
   "cell_type": "markdown",
   "id": "b10d56b7",
   "metadata": {},
   "source": [
    "### 1. Key factor between ideas that can, and cannot be examined and tested statistically? What would you describe is the key \"criteria\" defining what a good null hypothesis is? And what is the difference between a null hypothesis and an alternative hypothesis in the context of hypothesis testing? "
   ]
  },
  {
   "cell_type": "markdown",
   "id": "7a8fd354",
   "metadata": {},
   "source": [
    "- Ideas that can be examined and tested statistically must be:\n",
    "    - Testable, as in being able to collect data to exam ine\n",
    "    - Quantifiable as statistical analysis is reliant on quantifiable data\n",
    "    - Relatable to a population parameter, of which samples can be extracted from\n",
    "    \n",
    "    <br>\n",
    "    \n",
    "- Key Criteria defining a good null hypothesis includes:\n",
    "    - Testability: data must be collected and evaluated which provides evidence either for or against the null hypothesis\n",
    "    - Quantifiability: variables in null hypothesis must be measured & expressed numerically\n",
    "    - Population: null hypothesis should make a statement regarding the population (ex. population mean)\n",
    "    - Default: the null in the context of our test (ex. vaccine - no effect, judgement - fair)\n",
    "    - Specificity: null hypothesis should be very speicific, typically specifying a single true value for the population parameter\n",
    "    \n",
    "    <br>\n",
    "    \n",
    "- Difference between Null Hypothesis and Alternative Hypothesis\n",
    "    - Null Hypothesis: a speicific statement that represtents zero/null difference which we aim to *reject* using statistical evidence\n",
    "    - Alternative Hypothesis: a less specific statement (does not refer to an exact value) which contradicts the null hypothesis and proposes that there is an effect/difference.\n",
    "    \n",
    "    \n",
    "    "
   ]
  },
  {
   "cell_type": "markdown",
   "id": "4c047cd2",
   "metadata": {},
   "source": [
    "### 2. Defining Outcomes of Tests in Layman's Terms"
   ]
  },
  {
   "cell_type": "markdown",
   "id": "c6637708",
   "metadata": {},
   "source": [
    "\"It is important to note that outcomes of tests refer to the population parameter, rather than the sample statistic! As such, the result that we get is for the population.\"\n",
    "\n",
    "When conducting hypothesis testing, we calculate from **individual data points within a sample (x_i)**, and calculate the **mean of that sample (xbar)** in order to draw **conclusions about our population (𝜇)**. Our result informs about the sample, which helps us make inferences about our population, of which the sample originates from. These results are tested in order to see whether we have enough evidence to reject the null hypothesis, a value set at **𝜇0**, which indicates no effect/difference.\n",
    "\n",
    "An example in layman's terms:\n",
    "- Students taking STA130 are our population, of which a single student's grades is taken as our sample. The average of all student's in STA130 is our sample mean, and the actual true average which we are trying to simulate through our experiments is the true population parameter. We set 70 as 𝜇0, and see if having caffine intake has any effect by calculating the difference between 𝜇0 and our results."
   ]
  },
  {
   "cell_type": "markdown",
   "id": "ebaaf9f8",
   "metadata": {},
   "source": [
    "### 3. Why We Imagine a World Where the Null Hypotheses is True"
   ]
  },
  {
   "cell_type": "markdown",
   "id": "1ead2761",
   "metadata": {},
   "source": [
    "We 'imagine a world where the null hypothesis is true', in order to understand results we expect if there was no effect. This 'world' is established for us to compare whether the results are likely due to sheer chance or if the null hypothesis is actually not true.\n",
    "\n",
    "For example, if testing whether drug has an effect on short term memory. Null hypothesis is no effect. To calculate a p-value, we create a world in which the drug is just placebo - no effect at all. We then simulate experiments in this world and compare and contrast to experiments in which the drug does have an actual effect.\n",
    "\n",
    "If results differ, then there is substantial evidence to reject the null hypothesis."
   ]
  },
  {
   "cell_type": "markdown",
   "id": "dbde1a21",
   "metadata": {},
   "source": [
    "### 4. Why a smaller p-value makes the null hypothesis look *ridiculous*"
   ]
  },
  {
   "cell_type": "markdown",
   "id": "d0b252ff",
   "metadata": {},
   "source": [
    "A smaller p-value makes the null hypothesis look ridicilous as the smaller the p-value gets, the stronger the evidence is against the null hypothesis. \n",
    "\n",
    "Since p-value is probability of obtaining a test statistic being as extreme, or more extreme than the observed test statistic, we must look at the null hypothesis if it were true.\n",
    "\n",
    "If our observed test statistic is within the extreme tail ends of the null hypothesis distribution, then the odds of random chance being the sole factor drops if the null hypothesis were to be true. This causes the p-value to become small, and the smaller the p-value gets, the more *ridicuolous* the observed statistic is relative to the null hypothesis.\n"
   ]
  },
  {
   "cell_type": "markdown",
   "id": "9b15f9b8",
   "metadata": {},
   "source": [
    "### 5. Simulating a p-value using 50/50 coin flipping model with H0 being population doesn't have L/R head tilt tendencies when kissing"
   ]
  },
  {
   "cell_type": "markdown",
   "id": "a4ecb432",
   "metadata": {},
   "source": [
    "- x_i: head tilt direciton of a tested couple\n",
    "- xbar: mean of samples (# of R tilting couples / total # of couples)\n",
    "- u: population mean (true value mean of R tilting couples)\n",
    "- u0: 50% (hypothesised valye of pop. mean under null hypothesis)\n",
    "\n",
    "A world where the null hypothesis is true is a world in which deviation from the hypothesised proportion is due solely to random chance (no bias or preference detected)."
   ]
  },
  {
   "cell_type": "code",
   "execution_count": 10,
   "id": "ad8c7b47",
   "metadata": {},
   "outputs": [
    {
     "name": "stdout",
     "output_type": "stream",
     "text": [
      "𝑥𝑖: ['Left' 'Left' 'Left' 'Left' 'Right' 'Left' 'Right' 'Left' 'Right' 'Right'\n",
      " 'Right' 'Right' 'Right' 'Left' 'Right' 'Right' 'Left' 'Right' 'Left'\n",
      " 'Right' 'Left' 'Right' 'Right' 'Left' 'Right' 'Left' 'Right' 'Left'\n",
      " 'Left' 'Right' 'Left' 'Right' 'Right' 'Right' 'Left' 'Right' 'Right'\n",
      " 'Right' 'Left' 'Right' 'Right' 'Right' 'Right' 'Right' 'Right' 'Right'\n",
      " 'Right' 'Left' 'Right' 'Left' 'Right' 'Right' 'Left' 'Right' 'Right'\n",
      " 'Right' 'Left' 'Right' 'Right' 'Left' 'Right' 'Right' 'Left' 'Right'\n",
      " 'Left' 'Left' 'Left' 'Right' 'Right' 'Right' 'Right' 'Right' 'Right'\n",
      " 'Left' 'Left' 'Right' 'Left' 'Right' 'Right' 'Left' 'Left' 'Left' 'Left'\n",
      " 'Right' 'Right' 'Right' 'Right' 'Left' 'Left' 'Right' 'Left' 'Right'\n",
      " 'Right' 'Left' 'Left' 'Left' 'Right' 'Right' 'Left' 'Left' 'Right'\n",
      " 'Right' 'Right' 'Right' 'Left' 'Left' 'Left' 'Right' 'Right' 'Right'\n",
      " 'Right' 'Right' 'Right' 'Left' 'Left' 'Left' 'Right' 'Left' 'Left'\n",
      " 'Right' 'Left' 'Right' 'Left' 'Left']\n",
      "x-bar: 0.5806451612903226\n",
      "p-value: 0.001\n"
     ]
    }
   ],
   "source": [
    "import numpy as np\n",
    "import pandas as pd\n",
    "\n",
    "# Set the number of simulations\n",
    "n_simulations = 10000\n",
    "\n",
    "# Set the sample size\n",
    "n_couples = 124\n",
    "\n",
    "# Create an empty list to store the simulated results\n",
    "simulated_results = []\n",
    "\n",
    "# Loop through the simulations\n",
    "for i in range(n_simulations):\n",
    "\n",
    "    # Simulate the head tilts of 124 couples using a 50/50 coin flip\n",
    "    simulated_tilts = np.random.choice(['Right', 'Left'], size=n_couples)\n",
    "\n",
    "    # Calculate the proportion of couples who tilted their heads to the right\n",
    "    proportion_right = np.sum(simulated_tilts == 'Right') / n_couples\n",
    "\n",
    "    # Append the proportion to the list of simulated results\n",
    "    simulated_results.append(proportion_right)\n",
    "\n",
    "# Create a pandas DataFrame from the simulated results\n",
    "simulated_results_df = pd.DataFrame({'Proportion_Right': simulated_results})\n",
    "\n",
    "# Calculate the p-value: the proportion of simulated results that are as extreme as or more extreme than the observed proportion of 64.5%\n",
    "p_value = np.sum(simulated_results_df['Proportion_Right'] >= 0.645) / n_simulations\n",
    "\n",
    "# Print the p-value\n",
    "print(\"𝑥𝑖:\", simulated_tilts)\n",
    "print(\"x-bar:\", proportion_right)\n",
    "print(\"p-value:\", p_value)"
   ]
  },
  {
   "cell_type": "markdown",
   "id": "0344af19",
   "metadata": {},
   "source": [
    "Since 0.001 >= p, there is very strong evidence against the null hypothesis."
   ]
  },
  {
   "cell_type": "markdown",
   "id": "cc2f8299",
   "metadata": {},
   "source": [
    "### 6. Implications of a smaller p-value"
   ]
  },
  {
   "cell_type": "markdown",
   "id": "b2173182",
   "metadata": {},
   "source": [
    "The magnitude of a p-value has no bearing on whether a null hypothesis is true or false. Hypothesis testing simply **provides evidence against the null hypothesis, it cannot provide conclusive proof**. \n",
    "\n",
    "\n",
    "Therefore, a p-value cannot definitely prove whether Fido was guilty or innocent, it can only tell us the likelihood of innocence based on data under the assumtion that the null hypothesis is true. \n",
    "\n",
    "A smaller p-value provides evidence against the null hypothesis, while a higher p-value provides evidence for the null hypothesis - suggesting that the observed data is consistent with the null hypothesis (but does not contain any proof)."
   ]
  },
  {
   "cell_type": "markdown",
   "id": "305d6834",
   "metadata": {},
   "source": [
    "### Summary up to this point using NotebookLM\n",
    "\n",
    "Conversation Summary for Homework\n",
    "This conversation explored the interpretation of statistical symbols, the concept of the null hypothesis, and the role of p-values in hypothesis testing.\n",
    "\n",
    "\n",
    "●\n",
    "You initially sought to confirm your understanding of the symbols x_i, xbar, μ, and μ0 within the context of an example involving head tilt direction in kissing couples. You correctly identified x_i as the individual head tilt direction for each couple and μ0 as the hypothesized population mean under the null hypothesis (50% in this case, representing no preference).\n",
    "\n",
    "\n",
    "●\n",
    "However, you needed clarification on xbar and μ. You learned that xbar represents the sample proportion of right-tilting couples, calculated by dividing the number of right-tilting couples by the total sample size, not by dividing x_i by the quantity of x_i. Similarly, μ represents the true proportion of right-tilting couples in the entire population, encompassing all kissing couples, not just those with a rightward tilt.\n",
    "\n",
    "\n",
    "●\n",
    "You then asked about the definitive nature of p-values in proving or disproving the null hypothesis. The conversation clarified that no specific p-value can definitively prove or disprove a null hypothesis. Instead, p-values should be interpreted as indicators of the strength of evidence against the null hypothesis.\n",
    "\n",
    "\n",
    "●\n",
    "Smaller p-values suggest stronger evidence against the null hypothesis, but even a very small p-value doesn't eliminate the possibility that the null hypothesis is true and the results are due to chance. Conversely, a large p-value doesn't prove the null hypothesis; it just means the data isn't unusual enough to provide strong evidence against it.\n",
    "\n",
    "\n",
    "●\n",
    "The conversation emphasized that while a p-value less than 0.05 is often considered \"statistically significant\", this doesn't equate to certainty. It simply signifies moderate to strong evidence against the null hypothesis.\n",
    "\n",
    "\n",
    "●\n",
    "Finally, you requested the 'Demo II' code from TUT05. While the sources don't explicitly provide this code, they indicate that 'Demo II' likely involved using simulation to perform a hypothesis test and calculate a p-value, possibly using the \"Vaccine Data Analysis Assignment\" from Week 04 or the \"Stella's Wheel of Destiny\" example.\n"
   ]
  },
  {
   "cell_type": "markdown",
   "id": "f3a1fcbb",
   "metadata": {},
   "source": [
    "### 7. Computing a p-value for a *one-sided* hypothesis test"
   ]
  },
  {
   "cell_type": "code",
   "execution_count": 18,
   "id": "63957b12",
   "metadata": {},
   "outputs": [
    {
     "name": "stdout",
     "output_type": "stream",
     "text": [
      "Number of Simulations: 10000\n",
      "Number of simulated test statistics (under HO)\n",
      "that are \"as extreme or more extreme\" than the observed test statistic: 565\n",
      "p-value\n",
      "(= simulations \"as extreme\" / total simulations): 0.0565\n"
     ]
    }
   ],
   "source": [
    "import pandas as pd\n",
    "import numpy as np\n",
    "\n",
    "# Load patient data\n",
    "patient_data = pd.DataFrame({\n",
    "    \"PatientID\": [1, 2, 3, 4, 5, 6, 7, 8, 9, 10],\n",
    "    \"Age\": [45, 34, 29, 52, 37, 41, 33, 48, 26, 39],\n",
    "    \"Gender\": [\"M\", \"F\", \"M\", \"F\", \"M\", \"F\", \"M\", \"F\", \"M\", \"F\"],\n",
    "    \"InitialHealthScore\": [84, 78, 83, 81, 81, 80, 79, 85, 76, 83],\n",
    "    \"FinalHealthScore\": [86, 86, 80, 86, 84, 86, 86, 82, 83, 84]\n",
    "})\n",
    "\n",
    "# Calculate Health Score Change\n",
    "patient_data['HealthScoreChange'] = patient_data.FinalHealthScore - patient_data.InitialHealthScore\n",
    "\n",
    "# Bootstrapping to generate simulated test statistics\n",
    "np.random.seed(1)  # For reproducibility\n",
    "number_of_simulations = 10000\n",
    "n_size = len(patient_data)  # Sample size\n",
    "\n",
    "# Array to store the simulated \"improvement\" proportions under H0\n",
    "IncreaseProportionSimulations_underH0random = np.zeros(number_of_simulations)\n",
    "\n",
    "# Generate \"random improvement\" proportions assuming H0\n",
    "for i in range(number_of_simulations):\n",
    "    random_improvement = np.random.choice([0, 1], size=n_size, replace=True)\n",
    "    IncreaseProportionSimulations_underH0random[i] = random_improvement.mean()\n",
    "\n",
    "# Calculate the observed test statistic\n",
    "observed_test_statistic = (patient_data['HealthScoreChange'] > 0).mean()\n",
    "\n",
    "# Placeholder for population parameter under H0 (0 for no change)\n",
    "population_parameter_value_under_H0 = 0\n",
    "\n",
    "# For a one-sided test: Check how many simulated statistics are greater than or equal to the observed test statistic\n",
    "SimTestStats_as_or_more_extreme_than_ObsTestStat = \\\n",
    "    IncreaseProportionSimulations_underH0random >= observed_test_statistic\n",
    "\n",
    "# Compute the p-value as the proportion of simulated stats that are \"as extreme or more extreme\"\n",
    "p_value = SimTestStats_as_or_more_extreme_than_ObsTestStat.sum() / number_of_simulations\n",
    "\n",
    "# Display the results\n",
    "print(\"Number of Simulations: \", number_of_simulations, \"\\n\",\n",
    "      \"Number of simulated test statistics (under HO)\\n\",\n",
    "      'that are \"as extreme or more extreme\" than the observed test statistic: ',\n",
    "      SimTestStats_as_or_more_extreme_than_ObsTestStat.sum(), \"\\n\",\n",
    "      'p-value\\n(= simulations \"as extreme\" / total simulations): ', p_value, sep=\"\")\n"
   ]
  },
  {
   "cell_type": "markdown",
   "id": "690d501e",
   "metadata": {},
   "source": [
    "#### Changes in code from two-sided test to one-sided test:\n",
    "- Two-sided test calculated mean of **whether health score change > 0**\n",
    "    - patient_data.HealthScoreChange>0).mean()\n",
    "    - focus on both positive and negative deviations from 0\n",
    "        - therefore more conservative\n",
    "    - rejection of null hypothesis includes both positive and negative effects\n",
    "        - therefore more evidence is needed\n",
    "            - as p-value is split between tail ends of the distribution\n",
    "                - whereas it is only on one end in a single-sided test\n",
    "\n",
    "<br>\n",
    "                \n",
    "- One-sided test calculated mean **of health score changes > 0** \n",
    "    - observed_test_statistic = patient_data['HealthScoreChange'].mean()\n",
    "    - focus only on positive deviations from 0\n",
    "        - IncreaseProportionSimulations_underH0random >= observed_test_statistic\n",
    "    - thus, p-value is computed as proportion of simulated statstics \n",
    "        - greater than or equal to the observed statistic\n",
    "        - indicating a one-sided hypothesis\n",
    "    - rejection of null hypothesis is comprised only of positive effects\n",
    "    - making the one-sided test more focused compared to the two-sided version\n",
    "        - therefore, p-value will be smaller than a two-tailed test\n",
    "            - as evidence is only collected in one direction"
   ]
  },
  {
   "cell_type": "markdown",
   "id": "d16a5ced",
   "metadata": {},
   "source": [
    "### Summary of One-Tailed vs. Two-Tailed Hypothesis Testing with Bootstrapping\n",
    "\n",
    "https://chatgpt.com/share/670e1f26-17a0-800f-b1c3-b4a7afff4e2a\n",
    "\n",
    "In this assignment, we explored hypothesis testing using bootstrapping to calculate p-values. We worked with a dataset containing health scores for patients and analyzed the change in health scores after treatment. The goal was to compare one-tailed and two-tailed hypothesis tests and understand how the directionality affects the results.\n",
    "\n",
    "One-Tailed Hypothesis Test:\n",
    "\n",
    "We tested whether the mean health score change was greater than 0 (i.e., if the treatment improved health scores).\n",
    "The code was adjusted to check for simulated test statistics greater than or equal to the observed statistic, reflecting a one-sided hypothesis.\n",
    "The p-value was calculated as the proportion of simulated statistics that were as extreme or more extreme in one direction (greater than or equal to the observed value).\n",
    "\n",
    "<br>\n",
    "\n",
    "Two-Tailed Hypothesis Test:\n",
    "\n",
    "In this case, the hypothesis was that the mean health score change was different from 0 (it could be either greater or less than 0).\n",
    "The code was modified to check for absolute deviations from the null hypothesis, meaning it considered test statistics that were either much larger or much smaller than the hypothesized value.\n",
    "The p-value was calculated by comparing the absolute differences between the simulated and observed statistics in both directions.\n",
    "Key Differences:\n",
    "The one-tailed test focuses on a specific direction (improvements in health scores) and typically results in a smaller p-value compared to the two-tailed test.\n",
    "The two-tailed test is more conservative, as it tests for deviations in both directions (either improvement or deterioration), and the p-value is generally larger.\n",
    "\n",
    "<br> \n",
    "Conclusion:<br>\n",
    "\n",
    "The choice between a one-tailed or two-tailed test depends on the research question. If we are only interested in whether the treatment improves health scores, a one-tailed test is appropriate. However, if we are open to changes in either direction, a two-tailed test is more suitable."
   ]
  },
  {
   "cell_type": "markdown",
   "id": "0c45ebc4",
   "metadata": {},
   "source": [
    "### 8. Fisher's Tea Experiment"
   ]
  },
  {
   "cell_type": "markdown",
   "id": "094a24fb",
   "metadata": {},
   "source": [
    "- B said difference of milk **before** tea was noticable\n",
    "    - preferred tea when milk was poured after tea\n",
    "- F tested B w/ 4 cups of tea each with milk poured before and after tea\n",
    "    - B correctly identified all 8 cups\n",
    "    \n",
    "\n",
    "\n",
    "### 8. Fisher's Tea Experiment for STA130\n",
    "\n",
    "#### Introduction\n",
    "Below, we shall conduct a hypothesis test based on Fisher's Tea Experiment with students in STA130. Fisher's Tea Experiment was conducted with 8 cups of tea, 4 of which had milk poured before the tea, and the other 4 had milk poured after the tea. The test subject had to correctly identify which cups of tea had milk before the tea, and which cups had milk poured after the tea.\n",
    "\n",
    "The **parameter of interest for this test will be the true proportion *p* of correct guesses in the population of students**, or the probability that a student guesses correctly. For our purposes, our **sample will be comprised of 80 STA130 students**, who will each taste just a single cup of tea and guess whether they think milk or tea was poured first. Of these 80 students, 49/80 correctly identified which cups of tea had milk poured before and which had milk poured after. \n",
    "\n",
    "We will use this **observed test statistic (49/80)** to make inferences of our **population, which will be the entirety of STA130 students**, by comparing it against the distribution of simulated test statistics. From this, we will calculate a p-value, which tells us the extremities of the observed number of correct guesses compared to what one would expect to arise out of sheer luck. From this p-value, we can infer whether the evidence we have collected is strong enough evidence to reject the null hypothesis, which would suggest that students can in fact tell the difference between which beverage was poured first.\n",
    "\n",
    "\n",
    "\n",
    "#### Null Hypothesis H₀:\n",
    "*H₀:p* = 0.5\n",
    "\n",
    "Where *p* represents the true proprtion of correct guesses in the population and 0.5 represents the hypothesized proportion under the null hypotheses.\n",
    "\n",
    "In other words, our null hypotheses states that students are simply guessing (thus, a 50% chance, which is why 0.5 is used as H₀).\n",
    "\n",
    "#### Alternative Hypothesis H₁:\n",
    "*H₁:p* > 0.5\n",
    "\n",
    "Where *p* represents the true proprtion of correct guesses in the population and 0.5 represents the hypothesized proportion under the alternative hypotheses.\n",
    "\n",
    "In other words, the alternative hypotheses states that students are not just guessing randomly, and are more likely to be correct than not. This follows our observed test statistic of 49/80 students guessing correctly, which suggests students are more likely to guess correctly than what we would expect by pure chance.\n",
    "\n",
    "\n",
    "#### Quantitative Analysis\n",
    "\n",
    "\n",
    "Since we are only testing for whether *p* is greater than 0.5 (students guessing correctly more often than not), we will run a one-sided-test. This one-sided test will return a p-value which will help us determine whether we can reject the null hypotheses.\n",
    "\n",
    "Below is our code which will simulate our test 10000 times with a 50% chance of being correct over a sample size of 80. The p-value will then be calculated by the proportion of simulated results that are as extreme or more than our observed test statistic (49/80). If our p-value is less than our chosen α value of 0.05, we have sufficient evidence to reject the null hypotheses."
   ]
  },
  {
   "cell_type": "markdown",
   "id": "3ae3095d",
   "metadata": {},
   "source": [
    "#### Code"
   ]
  },
  {
   "cell_type": "code",
   "execution_count": 10,
   "id": "b1fdd24f",
   "metadata": {
    "scrolled": true
   },
   "outputs": [
    {
     "name": "stdout",
     "output_type": "stream",
     "text": [
      "Observed correct guesses: 49\n",
      "Simulated correct guesses (example): [53, 44, 43, 40, 38]\n",
      "P-value: 0.02740\n"
     ]
    },
    {
     "data": {
      "image/png": "[encoded data removed]",
      "text/plain": [
       "<Figure size 1000x600 with 1 Axes>"
      ]
     },
     "metadata": {},
     "output_type": "display_data"
    }
   ],
   "source": [
    "import numpy as np\n",
    "import pandas as pd\n",
    "import matplotlib.pyplot as plt\n",
    "\n",
    "# Set the number of simulations\n",
    "n_simulations = 10000\n",
    "\n",
    "# Set the sample size (number of students)\n",
    "n_students = 80\n",
    "\n",
    "# Set the observed number of correct guesses\n",
    "observed_correct = 49\n",
    "\n",
    "# Create an empty list to store the simulated results\n",
    "simulated_results = []\n",
    "\n",
    "# Loop through the simulations\n",
    "for i in range(n_simulations):\n",
    "\n",
    "    # Simulate the guesses of 80 students using a 50/50 chance for correct/incorrect\n",
    "    simulated_guesses = np.random.choice([1, 0], size=n_students, p=[0.5, 0.5])  # 1 for correct, 0 for incorrect\n",
    "\n",
    "    # Calculate the number of correct guesses in this simulation\n",
    "    num_correct = np.sum(simulated_guesses)\n",
    "\n",
    "    # Append the number of correct guesses to the list of simulated results\n",
    "    simulated_results.append(num_correct)\n",
    "\n",
    "# Create a pandas DataFrame from the simulated results\n",
    "simulated_results_df = pd.DataFrame({'Num_Correct': simulated_results})\n",
    "\n",
    "# Calculate the p-value: the proportion of simulated results that are as extreme as or more extreme than the observed result\n",
    "p_value = np.sum(simulated_results_df['Num_Correct'] >= observed_correct) / n_simulations\n",
    "\n",
    "# Print the p-value and a sample of one of the simulated tilts (to match the original structure)\n",
    "print(f\"Observed correct guesses: {observed_correct}\")\n",
    "print(f\"Simulated correct guesses (example): {simulated_results[:5]}\")  # Showing the first 5 simulations for example\n",
    "print(f\"P-value: {p_value:.5f}\")\n",
    "\n",
    "# Plotting the histogram\n",
    "plt.figure(figsize=(10, 6))\n",
    "plt.hist(simulated_results, bins=range(min(simulated_results), max(simulated_results) + 1), alpha=0.7, color='skyblue', edgecolor='black')\n",
    "\n",
    "# Add a vertical line for the observed correct guesses\n",
    "plt.axvline(observed_correct, color='red', linestyle='dashed', linewidth=2, label=f'Observed: {observed_correct}')\n",
    "\n",
    "# Add labels and title\n",
    "plt.title('Distribution of Simulated Correct Guesses vs. Observed Value')\n",
    "plt.xlabel('Number of Correct Guesses')\n",
    "plt.ylabel('Frequency')\n",
    "plt.legend()\n",
    "\n",
    "# Show the plot\n",
    "plt.show()\n"
   ]
  },
  {
   "cell_type": "markdown",
   "id": "7cfad5c4",
   "metadata": {},
   "source": [
    "#### Conclusion\n",
    "\n",
    "The returned p-value = 0.02740.\n",
    "\n",
    "This means there is a 2.74% chance of observing 49 or more correct guesses out of 80 if students are guessing randomly.\n",
    "\n",
    "Since our p-value: 0.02740 < α value: 0.05, we can reject the null hypotheses and state that students are more likely to guess correctly than by random chance in distinguishing whether milk was poured before or after tea."
   ]
  },
  {
   "cell_type": "markdown",
   "id": "d42cdee6",
   "metadata": {},
   "source": [
    "#### Condensed Summary of Fisher’s Tea Experiment Simulation\n",
    "\n",
    "https://chatgpt.com/share/670f3701-6880-800f-a573-6475092b70db\n",
    "\n",
    "In this assignment, we investigated the Fisher's Tea Experiment, where 80 students guessed which beverage (tea or milk) was poured first. The goal was to determine whether their guesses were random or if they were more likely to be correct.\n",
    "\n",
    "Key Components:\n",
    "\n",
    "\n",
    "Hypotheses:\n",
    "\n",
    "Null Hypothesis: Students are guessing randomly (p = 0.5).\n",
    "Alternative Hypothesis: Students are more likely to guess correctly than by chance (p > 0.5).\n",
    "Observed Statistic:\n",
    "\n",
    "49 out of 80 students guessed correctly, resulting in an observed proportion of 61.25%.\n",
    "Simulation:\n",
    "\n",
    "We simulated 10,000 trials of correct guesses under random conditions and calculated the p-value as the proportion of simulations yielding 49 or more correct guesses.\n",
    "The p-value obtained was 0.02800.\n",
    "\n",
    "\n",
    "\n",
    "Decision:\n",
    "\n",
    "Comparing the p-value to a significance level of 0.05, we found 0.02800 < 0.05, allowing us to reject the null hypothesis.\n",
    "\n",
    "\n",
    "\n",
    "Visualization:\n",
    "\n",
    "A histogram illustrated the distribution of simulated correct guesses, with a red line marking the observed value of 49, highlighting its extremeness relative to random guessing.\n",
    "Conclusion:\n",
    "The analysis provides statistical evidence that the students performed better than random guessing in identifying the poured beverage."
   ]
  }
 ],
 "metadata": {
  "kernelspec": {
   "display_name": "Python 3 (ipykernel)",
   "language": "python",
   "name": "python3"
  },
  "language_info": {
   "codemirror_mode": {
    "name": "ipython",
    "version": 3
   },
   "file_extension": ".py",
   "mimetype": "text/x-python",
   "name": "python",
   "nbconvert_exporter": "python",
   "pygments_lexer": "ipython3",
   "version": "3.11.6"
  }
 },
 "nbformat": 4,
 "nbformat_minor": 5
}
