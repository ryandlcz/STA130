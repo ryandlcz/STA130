{
 "cells": [
  {
   "cell_type": "markdown",
   "id": "3e47bc5b",
   "metadata": {},
   "source": [
    "# Course Project Proposal"
   ]
  },
  {
   "cell_type": "markdown",
   "id": "686f2a7a",
   "metadata": {},
   "source": [
    "### Introduction"
   ]
  },
  {
   "cell_type": "markdown",
   "id": "80848417",
   "metadata": {},
   "source": [
    "The advent of technology has given rise to numerous breakthroughs for mankind – the atomic bomb, the ability to travel into space, and artificial intelligence based chat bots providing instant homework answers. On the other hand, technology has also bestowed upon us the rise of the sedentary lifestyle, dating back to the origins of television which accelerated tenfold through the proliferation of home internet. The internet, for many is truly a divine, mystical experience. An experience once found only through hardship, or attending church and/or other such spiritual places. Unfortunately, while going to church requires being physically present, the internet can be accessed from the comforts of one’s bed. As such, the internet has eroded need of a church for youth of today, leaving a spiritual void in many."
   ]
  },
  {
   "cell_type": "markdown",
   "id": "e5187189",
   "metadata": {},
   "source": [
    "### Research Question"
   ]
  },
  {
   "cell_type": "markdown",
   "id": "266163c6",
   "metadata": {},
   "source": [
    "In order to examine the importance of social connection and community engagement for personal health and well-being, I have chosen to examine the correlation between physical and spiritual engagement within one’s community through means such as group exercise, volunteering, and attending a church/place of worship with happiness and reduced stress. Does engaging in group activity, whether physically or spiritually correlate with higher level of happiness and less stress?"
   ]
  },
  {
   "cell_type": "markdown",
   "id": "28815050",
   "metadata": {},
   "source": [
    "### Variables"
   ]
  },
  {
   "cell_type": "markdown",
   "id": "c6e4b641",
   "metadata": {},
   "source": [
    "I have chosen the following variables as I believe they will show that engaging physically within one’s community has a positive correlation with happiness and reduced stress:\n",
    "\n",
    "Dependent variables (assuming positive correlation):   \n",
    "CONNECTION_activities_group_exercise_p3m <br>\n",
    "CONNECTION_activities_walk_p3m <br>\n",
    "CONNECTION_activities_church_p3m <br>\n",
    "CONNECTION_activities_community_p3m  \n",
    "\n",
    "Dependent variables (assuming negative correlation):  \n",
    "CONNECTION_activities_computer_games_p3m  \n",
    "CONNECTION_activities_onlinegames_p3m  \n",
    "CONNECTION_activities_discussion_group_p3m  \n",
    "\n",
    "Independent variables: <br>\n",
    "WELLNESS_subjective_happiness_scale_score <br>\n",
    "WELLNESS_phq_score <br>\n",
    "WELLNESS_gad_score\n",
    "\n",
    "I plan to explore the relationship between each pair of dependent and independent variables visually through box plots and scatter plots, as I believe that they will be best for revealing any correlation. Box plots display distribution of data well, while also highlighting outliers. Scatter plots also highlight outliers, in addition to allowing for clear pattern identification through means such as regression.\n"
   ]
  },
  {
   "cell_type": "markdown",
   "id": "110154a4",
   "metadata": {},
   "source": [
    "### Analysis"
   ]
  },
  {
   "cell_type": "markdown",
   "id": "ec5f4b92",
   "metadata": {},
   "source": [
    "I will use bootstrapping and 95% confidence intervals in order to perform the analysis by sampling with replacement for each dependent and independent variable pair. I will then calculate correlations between each pair and build confidence intervals to identify where the correlation between each pair is likely to lie. If the confidence interval for a pair does not include zero, we can assume a statically significant correlation. If the confidence interval for a pair is above zero, we can assume positive correlation with happiness and well being, whereas if a confidence interval for a pair lies below zero, we can assume a negative correlation."
   ]
  },
  {
   "cell_type": "markdown",
   "id": "e62ce06b",
   "metadata": {},
   "source": [
    "### Hypothesis"
   ]
  },
  {
   "cell_type": "markdown",
   "id": "c8726613",
   "metadata": {},
   "source": [
    "I believe that being physically present within one’s community, whether through fitness, volunteering, or spiritual purposes will reveal a strong relationship to personal health and well being. Those with a high frequency of engaging physically within ones community will display a positive correlation of happiness and reduced stress, whereas those with a lower frequency will display a negative correlation. In addition, those performing sedentary activities frequently will display a negative correlation as well, while those spending less time in front of a screen will display a positive correlation of happiness and reduced stress."
   ]
  }
 ],
 "metadata": {
  "kernelspec": {
   "display_name": "Python 3 (ipykernel)",
   "language": "python",
   "name": "python3"
  },
  "language_info": {
   "codemirror_mode": {
    "name": "ipython",
    "version": 3
   },
   "file_extension": ".py",
   "mimetype": "text/x-python",
   "name": "python",
   "nbconvert_exporter": "python",
   "pygments_lexer": "ipython3",
   "version": "3.11.6"
  }
 },
 "nbformat": 4,
 "nbformat_minor": 5
}
